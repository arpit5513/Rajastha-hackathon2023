{
 "cells": [
  {
   "cell_type": "code",
   "execution_count": 1,
   "metadata": {},
   "outputs": [],
   "source": [
    "import mysql.connector\n",
    "from mysql.connector import Error\n",
    "import pandas as pd"
   ]
  },
  {
   "cell_type": "code",
   "execution_count": 2,
   "metadata": {},
   "outputs": [],
   "source": [
    "def create_server_connection(host_name,user_name,user_password):\n",
    "    connection = None\n",
    "    try:\n",
    "        connection = mysql.connector.connect(\n",
    "            host= host_name,\n",
    "            user  =user_name,\n",
    "            passwd = user_password)\n",
    "        print(\"MySql Database connection sucessfull\")\n",
    "    \n",
    "    except Error as err:\n",
    "        print(f'Error: '+ str(err))\n",
    "    \n",
    "    return connection\n",
    "\n",
    "def create_database(connection, query):\n",
    "    cursor = connection.cursor()\n",
    "    try:\n",
    "        cursor.execute(query)\n",
    "        print(\"Database created sucessfully\")\n",
    "    except Error as err:\n",
    "        print(\"Error: \" + str(err))\n",
    "\n",
    "def create_db_connection(host_name, user_name, user_password, db_name):\n",
    "    connection = None\n",
    "    try:\n",
    "        connection = mysql.connector.connect(\n",
    "            host = host_name,\n",
    "            user = user_name,\n",
    "            passwd = user_password,\n",
    "            database = db_name\n",
    "        )\n",
    "        print(\"Mysql database connection sucessfull\")\n",
    "    except Error as e:\n",
    "        print(\"Error: \" + str(e))    \n",
    "    return connection\n",
    "\n",
    "def execute_query(connection, qurey):\n",
    "    cursor = connection.cursor()\n",
    "    try:\n",
    "        cursor.execute(qurey)\n",
    "        connection.commit()\n",
    "        print(\"Query was sucessfull\")\n",
    "    except Error as e:\n",
    "        print(\"Error: \" + str(e))    \n",
    "\n",
    "def read_query(connection, query):\n",
    "    cursor = connection.cursor()\n",
    "    result = None\n",
    "    try:\n",
    "        cursor.execute(query)\n",
    "        result = cursor.fetchall()\n",
    "        return result\n",
    "    except Error as e:\n",
    "        print(\"Error: \" + str(e))    \n",
    "\n",
    "    "
   ]
  },
  {
   "cell_type": "code",
   "execution_count": 3,
   "metadata": {},
   "outputs": [
    {
     "name": "stdout",
     "output_type": "stream",
     "text": [
      "MySql Database connection sucessfull\n"
     ]
    }
   ],
   "source": [
    "pw = 'pratham@123'\n",
    "db = 'mysql_python'\n",
    "connection = create_server_connection(\"127.0.0.1\",'root',pw)"
   ]
  },
  {
   "cell_type": "code",
   "execution_count": 4,
   "metadata": {},
   "outputs": [
    {
     "name": "stdout",
     "output_type": "stream",
     "text": [
      "Error: 1007 (HY000): Can't create database 'mysql_python'; database exists\n"
     ]
    }
   ],
   "source": [
    "create_database_qurey = 'Create database mysql_python'\n",
    "create_database(connection,create_database_qurey)"
   ]
  },
  {
   "cell_type": "code",
   "execution_count": 5,
   "metadata": {},
   "outputs": [
    {
     "name": "stdout",
     "output_type": "stream",
     "text": [
      "Mysql database connection sucessfull\n",
      "Error: 1050 (42S01): Table 'orders' already exists\n"
     ]
    }
   ],
   "source": [
    "create_orders_table = '''\n",
    "create table orders(\n",
    "order_id int primary key,\n",
    "customer_name varchar(30) not null,\n",
    "product_name varchar(20) not null,\n",
    "date_ordered date,\n",
    "quantity int,\n",
    "unit_price float,\n",
    "phone_number varchar(20)\n",
    ");\n",
    "'''\n",
    "connection = create_db_connection(\"127.0.0.1\",'root', pw, db) \n",
    "execute_query(connection, create_orders_table)"
   ]
  },
  {
   "cell_type": "code",
   "execution_count": 7,
   "metadata": {},
   "outputs": [
    {
     "name": "stdout",
     "output_type": "stream",
     "text": [
      "Mysql database connection sucessfull\n",
      "Query was sucessful\n"
     ]
    }
   ],
   "source": [
    "data_orders =  \"\"\"\n",
    "insert into orders values\n",
    "(101, 'Steve', 'Laptop', '2018-06-12', 2, 800, '6546542482'),\n",
    "(102, 'jack', 'top', '2018-06-12', 2, 800, '6546542482'),\n",
    "(103, 'Seiriya', 'jeans', '2018-06-12', 2, 800, '6546542482'),\n",
    "(104, 'ganesh', 'chess board', '2018-06-12', 2, 800, '6546542482'),\n",
    "(105, 'harvi', 'pook', '2018-06-12', 2, 800, '6546542482');\n",
    "\"\"\"\n",
    "connection = create_db_connection(\"127.0.0.1\",\"root\",pw,db)\n",
    "execute_query(connection, data_orders)\n"
   ]
  },
  {
   "cell_type": "code",
   "execution_count": 9,
   "metadata": {},
   "outputs": [
    {
     "name": "stdout",
     "output_type": "stream",
     "text": [
      "Mysql database connection sucessfull\n",
      "(101, 'Steve', 'Laptop', datetime.date(2018, 6, 12), 2, 800.0, '6546542482')\n",
      "(102, 'jack', 'top', datetime.date(2018, 6, 12), 2, 800.0, '6546542482')\n",
      "(103, 'Seiriya', 'jeans', datetime.date(2018, 6, 12), 2, 800.0, '6546542482')\n",
      "(104, 'ganesh', 'chess board', datetime.date(2018, 6, 12), 2, 800.0, '6546542482')\n",
      "(105, 'harvi', 'pook', datetime.date(2018, 6, 12), 2, 800.0, '6546542482')\n"
     ]
    }
   ],
   "source": [
    "q1 = \"\"\"\n",
    "select * from orders;\n",
    "\"\"\"\n",
    "connection = create_db_connection(\"127.0.0.1\",\"root\",pw,db)\n",
    "results = read_query(connection, q1)\n",
    "for result in results:\n",
    "    print(result)"
   ]
  },
  {
   "cell_type": "code",
   "execution_count": 10,
   "metadata": {},
   "outputs": [
    {
     "name": "stdout",
     "output_type": "stream",
     "text": [
      "Mysql database connection sucessfull\n",
      "('Steve', '6546542482')\n",
      "('jack', '6546542482')\n",
      "('Seiriya', '6546542482')\n",
      "('ganesh', '6546542482')\n",
      "('harvi', '6546542482')\n"
     ]
    }
   ],
   "source": [
    "q2 = \"\"\"\n",
    "select customer_name, phone_number from orders; \n",
    "\"\"\"\n",
    "connection = create_db_connection(\"127.0.0.1\",\"root\",pw,db)\n",
    "results = read_query(connection, q2)\n",
    "for result in results:\n",
    "    print(result)"
   ]
  },
  {
   "cell_type": "code",
   "execution_count": 12,
   "metadata": {},
   "outputs": [
    {
     "name": "stdout",
     "output_type": "stream",
     "text": [
      "Mysql database connection sucessfull\n",
      "(2018,)\n",
      "(2018,)\n",
      "(2018,)\n",
      "(2018,)\n",
      "(2018,)\n"
     ]
    }
   ],
   "source": [
    "q3 = \"\"\"\n",
    "select year(date_ordered) from orders; \n",
    "\"\"\"\n",
    "connection = create_db_connection(\"127.0.0.1\",\"root\",pw,db)\n",
    "results = read_query(connection, q3)\n",
    "for result in results:\n",
    "    print(result)"
   ]
  },
  {
   "cell_type": "code",
   "execution_count": 14,
   "metadata": {},
   "outputs": [
    {
     "name": "stdout",
     "output_type": "stream",
     "text": [
      "Mysql database connection sucessfull\n",
      "(2018,)\n"
     ]
    }
   ],
   "source": [
    "q4 = \"\"\"\n",
    "select distinct year(date_ordered) from orders; \n",
    "\"\"\"\n",
    "connection = create_db_connection(\"127.0.0.1\",\"root\",pw,db)\n",
    "results = read_query(connection, q4)\n",
    "for result in results:\n",
    "    print(result)"
   ]
  },
  {
   "cell_type": "code",
   "execution_count": 15,
   "metadata": {},
   "outputs": [
    {
     "name": "stdout",
     "output_type": "stream",
     "text": [
      "Mysql database connection sucessfull\n",
      "(101, 'Steve', 'Laptop', datetime.date(2018, 6, 12), 2, 800.0, '6546542482')\n",
      "(102, 'jack', 'top', datetime.date(2018, 6, 12), 2, 800.0, '6546542482')\n",
      "(103, 'Seiriya', 'jeans', datetime.date(2018, 6, 12), 2, 800.0, '6546542482')\n",
      "(104, 'ganesh', 'chess board', datetime.date(2018, 6, 12), 2, 800.0, '6546542482')\n",
      "(105, 'harvi', 'pook', datetime.date(2018, 6, 12), 2, 800.0, '6546542482')\n"
     ]
    }
   ],
   "source": [
    "q5 = \"\"\"\n",
    "select * from orders where date_ordered < '2018-12-31'; \n",
    "\"\"\"\n",
    "connection = create_db_connection(\"127.0.0.1\",\"root\",pw,db)\n",
    "results = read_query(connection, q5)\n",
    "for result in results:\n",
    "    print(result)"
   ]
  },
  {
   "cell_type": "code",
   "execution_count": 17,
   "metadata": {},
   "outputs": [
    {
     "name": "stdout",
     "output_type": "stream",
     "text": [
      "Mysql database connection sucessfull\n",
      "(101, 'Steve', 'Laptop', datetime.date(2018, 6, 12), 2, 800.0, '6546542482')\n",
      "(102, 'jack', 'top', datetime.date(2018, 6, 12), 2, 800.0, '6546542482')\n",
      "(103, 'Seiriya', 'jeans', datetime.date(2018, 6, 12), 2, 800.0, '6546542482')\n",
      "(104, 'ganesh', 'chess board', datetime.date(2018, 6, 12), 2, 800.0, '6546542482')\n",
      "(105, 'harvi', 'pook', datetime.date(2018, 6, 12), 2, 800.0, '6546542482')\n"
     ]
    }
   ],
   "source": [
    "q7 = \"\"\"\n",
    "select * from orders order by unit_price; \n",
    "\"\"\"\n",
    "connection = create_db_connection(\"127.0.0.1\",\"root\",pw,db)\n",
    "results = read_query(connection, q7)\n",
    "for result in results:\n",
    "    print(result)"
   ]
  },
  {
   "cell_type": "code",
   "execution_count": 20,
   "metadata": {},
   "outputs": [
    {
     "name": "stdout",
     "output_type": "stream",
     "text": [
      "Mysql database connection sucessfull\n"
     ]
    },
    {
     "data": {
      "text/html": [
       "<div>\n",
       "<style scoped>\n",
       "    .dataframe tbody tr th:only-of-type {\n",
       "        vertical-align: middle;\n",
       "    }\n",
       "\n",
       "    .dataframe tbody tr th {\n",
       "        vertical-align: top;\n",
       "    }\n",
       "\n",
       "    .dataframe thead th {\n",
       "        text-align: right;\n",
       "    }\n",
       "</style>\n",
       "<table border=\"1\" class=\"dataframe\">\n",
       "  <thead>\n",
       "    <tr style=\"text-align: right;\">\n",
       "      <th></th>\n",
       "      <th>order_id</th>\n",
       "      <th>customer_name</th>\n",
       "      <th>product_name</th>\n",
       "      <th>date_ordered</th>\n",
       "      <th>quantity</th>\n",
       "      <th>unit_price</th>\n",
       "      <th>phone_number</th>\n",
       "    </tr>\n",
       "  </thead>\n",
       "  <tbody>\n",
       "    <tr>\n",
       "      <th>0</th>\n",
       "      <td>101</td>\n",
       "      <td>Steve</td>\n",
       "      <td>Laptop</td>\n",
       "      <td>2018-06-12</td>\n",
       "      <td>2</td>\n",
       "      <td>800.0</td>\n",
       "      <td>6546542482</td>\n",
       "    </tr>\n",
       "    <tr>\n",
       "      <th>1</th>\n",
       "      <td>102</td>\n",
       "      <td>jack</td>\n",
       "      <td>top</td>\n",
       "      <td>2018-06-12</td>\n",
       "      <td>2</td>\n",
       "      <td>800.0</td>\n",
       "      <td>6546542482</td>\n",
       "    </tr>\n",
       "    <tr>\n",
       "      <th>2</th>\n",
       "      <td>103</td>\n",
       "      <td>Seiriya</td>\n",
       "      <td>jeans</td>\n",
       "      <td>2018-06-12</td>\n",
       "      <td>2</td>\n",
       "      <td>800.0</td>\n",
       "      <td>6546542482</td>\n",
       "    </tr>\n",
       "    <tr>\n",
       "      <th>3</th>\n",
       "      <td>104</td>\n",
       "      <td>ganesh</td>\n",
       "      <td>chess board</td>\n",
       "      <td>2018-06-12</td>\n",
       "      <td>2</td>\n",
       "      <td>800.0</td>\n",
       "      <td>6546542482</td>\n",
       "    </tr>\n",
       "    <tr>\n",
       "      <th>4</th>\n",
       "      <td>105</td>\n",
       "      <td>harvi</td>\n",
       "      <td>pook</td>\n",
       "      <td>2018-06-12</td>\n",
       "      <td>2</td>\n",
       "      <td>800.0</td>\n",
       "      <td>6546542482</td>\n",
       "    </tr>\n",
       "  </tbody>\n",
       "</table>\n",
       "</div>"
      ],
      "text/plain": [
       "   order_id customer_name product_name date_ordered  quantity  unit_price  \\\n",
       "0       101         Steve       Laptop   2018-06-12         2       800.0   \n",
       "1       102          jack          top   2018-06-12         2       800.0   \n",
       "2       103       Seiriya        jeans   2018-06-12         2       800.0   \n",
       "3       104        ganesh  chess board   2018-06-12         2       800.0   \n",
       "4       105         harvi         pook   2018-06-12         2       800.0   \n",
       "\n",
       "  phone_number  \n",
       "0   6546542482  \n",
       "1   6546542482  \n",
       "2   6546542482  \n",
       "3   6546542482  \n",
       "4   6546542482  "
      ]
     },
     "metadata": {},
     "output_type": "display_data"
    }
   ],
   "source": [
    "from_db = []\n",
    "q8 = \"\"\"\n",
    "select * from orders;\n",
    "\"\"\"\n",
    "connection = create_db_connection(\"127.0.0.1\", \"root\", pw, db)\n",
    "results = read_query(connection, q8)\n",
    "for result in results:\n",
    "    result = list(result)\n",
    "    from_db.append(result)\n",
    "colums = [\"order_id\",'customer_name','product_name',\"date_ordered\",\"quantity\",\"unit_price\", \"phone_number\"]\n",
    "\n",
    "df = pd.DataFrame(from_db,columns= colums)\n",
    "display(df)\n"
   ]
  },
  {
   "cell_type": "code",
   "execution_count": 23,
   "metadata": {},
   "outputs": [
    {
     "name": "stdout",
     "output_type": "stream",
     "text": [
      "Mysql database connection sucessfull\n",
      "Query was sucessfull\n"
     ]
    }
   ],
   "source": [
    "update = \"\"\"\n",
    "update orders\n",
    "set unit_price = 45\n",
    "where order_id = 103\n",
    "\"\"\"\n",
    "connection = create_db_connection(\"127.0.0.1\", 'root', pw,db)\n",
    "execute_query(connection , update)\n",
    "\n"
   ]
  },
  {
   "cell_type": "code",
   "execution_count": 26,
   "metadata": {},
   "outputs": [
    {
     "name": "stdout",
     "output_type": "stream",
     "text": [
      "Mysql database connection sucessfull\n"
     ]
    },
    {
     "data": {
      "text/html": [
       "<div>\n",
       "<style scoped>\n",
       "    .dataframe tbody tr th:only-of-type {\n",
       "        vertical-align: middle;\n",
       "    }\n",
       "\n",
       "    .dataframe tbody tr th {\n",
       "        vertical-align: top;\n",
       "    }\n",
       "\n",
       "    .dataframe thead th {\n",
       "        text-align: right;\n",
       "    }\n",
       "</style>\n",
       "<table border=\"1\" class=\"dataframe\">\n",
       "  <thead>\n",
       "    <tr style=\"text-align: right;\">\n",
       "      <th></th>\n",
       "      <th>order_id</th>\n",
       "      <th>customer_name</th>\n",
       "      <th>product_name</th>\n",
       "      <th>date_ordered</th>\n",
       "      <th>quantity</th>\n",
       "      <th>unit_price</th>\n",
       "      <th>phone_number</th>\n",
       "    </tr>\n",
       "  </thead>\n",
       "  <tbody>\n",
       "    <tr>\n",
       "      <th>0</th>\n",
       "      <td>101</td>\n",
       "      <td>Steve</td>\n",
       "      <td>Laptop</td>\n",
       "      <td>2018-06-12</td>\n",
       "      <td>2</td>\n",
       "      <td>800.0</td>\n",
       "      <td>6546542482</td>\n",
       "    </tr>\n",
       "    <tr>\n",
       "      <th>1</th>\n",
       "      <td>102</td>\n",
       "      <td>jack</td>\n",
       "      <td>top</td>\n",
       "      <td>2018-06-12</td>\n",
       "      <td>2</td>\n",
       "      <td>800.0</td>\n",
       "      <td>6546542482</td>\n",
       "    </tr>\n",
       "    <tr>\n",
       "      <th>2</th>\n",
       "      <td>103</td>\n",
       "      <td>Seiriya</td>\n",
       "      <td>jeans</td>\n",
       "      <td>2018-06-12</td>\n",
       "      <td>2</td>\n",
       "      <td>45.0</td>\n",
       "      <td>6546542482</td>\n",
       "    </tr>\n",
       "    <tr>\n",
       "      <th>3</th>\n",
       "      <td>104</td>\n",
       "      <td>ganesh</td>\n",
       "      <td>chess board</td>\n",
       "      <td>2018-06-12</td>\n",
       "      <td>2</td>\n",
       "      <td>800.0</td>\n",
       "      <td>6546542482</td>\n",
       "    </tr>\n",
       "    <tr>\n",
       "      <th>4</th>\n",
       "      <td>105</td>\n",
       "      <td>harvi</td>\n",
       "      <td>pook</td>\n",
       "      <td>2018-06-12</td>\n",
       "      <td>2</td>\n",
       "      <td>800.0</td>\n",
       "      <td>6546542482</td>\n",
       "    </tr>\n",
       "  </tbody>\n",
       "</table>\n",
       "</div>"
      ],
      "text/plain": [
       "   order_id customer_name product_name date_ordered  quantity  unit_price  \\\n",
       "0       101         Steve       Laptop   2018-06-12         2       800.0   \n",
       "1       102          jack          top   2018-06-12         2       800.0   \n",
       "2       103       Seiriya        jeans   2018-06-12         2        45.0   \n",
       "3       104        ganesh  chess board   2018-06-12         2       800.0   \n",
       "4       105         harvi         pook   2018-06-12         2       800.0   \n",
       "\n",
       "  phone_number  \n",
       "0   6546542482  \n",
       "1   6546542482  \n",
       "2   6546542482  \n",
       "3   6546542482  \n",
       "4   6546542482  "
      ]
     },
     "metadata": {},
     "output_type": "display_data"
    }
   ],
   "source": [
    "from_db = []\n",
    "q8 = \"\"\"\n",
    "select * from orders;\n",
    "\"\"\"\n",
    "connection = create_db_connection(\"127.0.0.1\", \"root\", pw, db)\n",
    "results = read_query(connection, q8)\n",
    "for result in results:\n",
    "    result = list(result)\n",
    "    from_db.append(result)\n",
    "colums = [\"order_id\",'customer_name','product_name',\"date_ordered\",\"quantity\",\"unit_price\", \"phone_number\"]\n",
    "\n",
    "df = pd.DataFrame(from_db,columns= colums)\n",
    "display(df)"
   ]
  },
  {
   "cell_type": "code",
   "execution_count": 27,
   "metadata": {},
   "outputs": [
    {
     "name": "stdout",
     "output_type": "stream",
     "text": [
      "Mysql database connection sucessfull\n",
      "Query was sucessfull\n"
     ]
    }
   ],
   "source": [
    "delete_order = \"\"\"\n",
    "delete from orders\n",
    "where order_id = 102\n",
    "\"\"\"\n",
    "connection = create_db_connection(\"127.0.0.1\", 'root', pw,db)\n",
    "execute_query(connection , delete_order)\n"
   ]
  }
 ],
 "metadata": {
  "kernelspec": {
   "display_name": "Python 3",
   "language": "python",
   "name": "python3"
  },
  "language_info": {
   "codemirror_mode": {
    "name": "ipython",
    "version": 3
   },
   "file_extension": ".py",
   "mimetype": "text/x-python",
   "name": "python",
   "nbconvert_exporter": "python",
   "pygments_lexer": "ipython3",
   "version": "3.8.9"
  },
  "orig_nbformat": 4
 },
 "nbformat": 4,
 "nbformat_minor": 2
}
