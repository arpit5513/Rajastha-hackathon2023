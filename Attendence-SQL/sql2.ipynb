{
 "cells": [
  {
   "cell_type": "code",
   "execution_count": 2,
   "metadata": {},
   "outputs": [],
   "source": [
    "import mysql.connector\n",
    "from mysql.connector import Error\n",
    "import pandas as pd"
   ]
  },
  {
   "cell_type": "code",
   "execution_count": 3,
   "metadata": {},
   "outputs": [],
   "source": [
    "def create_server_connection(host_name,user_name,user_password):\n",
    "    connection = None\n",
    "    try:\n",
    "        connection = mysql.connector.connect(\n",
    "            host= host_name,\n",
    "            user  =user_name,\n",
    "            passwd = user_password)\n",
    "        print(\"MySql Database connection sucessfull\")\n",
    "    \n",
    "    except Error as err:\n",
    "        print(f'Error: '+ str(err))\n",
    "    \n",
    "    return connection\n",
    "\n",
    "def create_database(connection, query):\n",
    "    cursor = connection.cursor()\n",
    "    try:\n",
    "        cursor.execute(query)\n",
    "        print(\"Database created sucessfully\")\n",
    "    except Error as err:\n",
    "        print(\"Error: \" + str(err))\n",
    "\n",
    "def create_db_connection(host_name, user_name, user_password, db_name):\n",
    "    connection = None\n",
    "    try:\n",
    "        connection = mysql.connector.connect(\n",
    "            host = host_name,\n",
    "            user = user_name,\n",
    "            passwd = user_password,\n",
    "            database = db_name\n",
    "        )\n",
    "        print(\"Mysql database connection sucessfull\")\n",
    "    except Error as e:\n",
    "        print(\"Error: \" + str(e))    \n",
    "    return connection\n",
    "\n",
    "def execute_query(connection, qurey):\n",
    "    cursor = connection.cursor()\n",
    "    try:\n",
    "        cursor.execute(qurey)\n",
    "        connection.commit()\n",
    "        print(\"Query was sucessfull\")\n",
    "    except Error as e:\n",
    "        print(\"Error: \" + str(e))    \n",
    "\n",
    "def read_query(connection, query):\n",
    "    cursor = connection.cursor()\n",
    "    result = None\n",
    "    try:\n",
    "        cursor.execute(query)\n",
    "        result = cursor.fetchall()\n",
    "        return result\n",
    "    except Error as e:\n",
    "        print(\"Error: \" + str(e))    \n",
    "\n",
    "    "
   ]
  },
  {
   "cell_type": "code",
   "execution_count": 4,
   "metadata": {},
   "outputs": [
    {
     "name": "stdout",
     "output_type": "stream",
     "text": [
      "MySql Database connection sucessfull\n"
     ]
    }
   ],
   "source": [
    "pw = 'pratham@123'\n",
    "db = \"Attendence_System\"#'Attendence_Record'#'Attendence_System'\n",
    "connection = create_server_connection(\"127.0.0.1\",'root',pw)"
   ]
  },
  {
   "cell_type": "code",
   "execution_count": 4,
   "metadata": {},
   "outputs": [
    {
     "name": "stdout",
     "output_type": "stream",
     "text": [
      "Error: 1007 (HY000): Can't create database 'attendence_system'; database exists\n"
     ]
    }
   ],
   "source": [
    "create_database_qurey = 'Create database Attendence_System'\n",
    "create_database(connection,create_database_qurey)"
   ]
  },
  {
   "cell_type": "code",
   "execution_count": 8,
   "metadata": {},
   "outputs": [
    {
     "name": "stdout",
     "output_type": "stream",
     "text": [
      "Error: 1007 (HY000): Can't create database 'attendence_record'; database exists\n"
     ]
    }
   ],
   "source": [
    "create_database_qurey = 'Create database Attendence_Record'\n",
    "create_database(connection,create_database_qurey)"
   ]
  },
  {
   "cell_type": "code",
   "execution_count": 5,
   "metadata": {},
   "outputs": [
    {
     "name": "stdout",
     "output_type": "stream",
     "text": [
      "Mysql database connection sucessfull\n",
      "Query was sucessfull\n"
     ]
    }
   ],
   "source": [
    "create_orders_table = '''\n",
    "create table Attendence(\n",
    "Date varchar(10) not null,\n",
    "Faculty_Name varchar(30) not null,\n",
    "Time_In varchar(10) not null,\n",
    "Time_Out varchar(10) not null\n",
    ");\n",
    "'''\n",
    "connection = create_db_connection(\"127.0.0.1\",'root', pw, \"Attendence_System\") \n",
    "execute_query(connection, create_orders_table)"
   ]
  },
  {
   "cell_type": "code",
   "execution_count": 7,
   "metadata": {},
   "outputs": [
    {
     "name": "stdout",
     "output_type": "stream",
     "text": [
      "Mysql database connection sucessfull\n",
      "Error: 1050 (42S01): Table 'master_department' already exists\n"
     ]
    }
   ],
   "source": [
    "create_orders_table = '''\n",
    "create table Master_Department(\n",
    "Faculty_Department varchar(30) not null\n",
    ");\n",
    "'''\n",
    "connection = create_db_connection(\"127.0.0.1\",'root', pw, db) \n",
    "execute_query(connection, create_orders_table)"
   ]
  },
  {
   "cell_type": "code",
   "execution_count": 5,
   "metadata": {},
   "outputs": [
    {
     "name": "stdout",
     "output_type": "stream",
     "text": [
      "Mysql database connection sucessfull\n",
      "Error: 1050 (42S01): Table 'faculty_record' already exists\n"
     ]
    }
   ],
   "source": [
    "create_orders_table = '''\n",
    "create table Faculty_Record(\n",
    "Faculty_Name varchar(20) not null,\n",
    "Faculty_DOB date,\n",
    "Faculty_Department varchar(10) not null,\n",
    "Faculty_Id varchar(30) not null,\n",
    "Faculty_Password varchar(10) not null,\n",
    "Faculty_Image varchar(50) not null\n",
    ");\n",
    "'''\n",
    "connection = create_db_connection(\"127.0.0.1\",'root', pw, db) \n",
    "execute_query(connection, create_orders_table)"
   ]
  },
  {
   "cell_type": "code",
   "execution_count": 9,
   "metadata": {},
   "outputs": [
    {
     "name": "stdout",
     "output_type": "stream",
     "text": [
      "Mysql database connection sucessfull\n",
      "Query was sucessfull\n"
     ]
    }
   ],
   "source": [
    "data_orders =  \"\"\"\n",
    "insert into Master_Department values\n",
    "('Others')\n",
    "\"\"\"\n",
    "connection = create_db_connection(\"127.0.0.1\",\"root\",pw,db)\n",
    "execute_query(connection, data_orders)\n"
   ]
  },
  {
   "cell_type": "code",
   "execution_count": 6,
   "metadata": {},
   "outputs": [
    {
     "name": "stdout",
     "output_type": "stream",
     "text": [
      "\n",
      "select * from Attendence where Date = '2023-03-12'and Faculty_Name = 'Pratham Sharma';\n",
      "\n",
      "Mysql database connection sucessfull\n",
      "('2023-03-12', 'Pratham Sharma', '23:07')\n"
     ]
    }
   ],
   "source": [
    "Date= '2023-03-12'\n",
    "q1 = \"\"\"\n",
    "select * from Attendence where Date = '{}'and Faculty_Name = 'Pratham Sharma';\n",
    "\"\"\"\n",
    "q1 = q1.format(Date)\n",
    "print(q1)\n",
    "connection = create_db_connection(\"127.0.0.1\",\"root\",pw,db)\n",
    "results = read_query(connection, q1)\n",
    "for result in results:\n",
    "    print(result)"
   ]
  },
  {
   "cell_type": "code",
   "execution_count": 5,
   "metadata": {},
   "outputs": [
    {
     "name": "stdout",
     "output_type": "stream",
     "text": [
      "Mysql database connection sucessfull\n",
      "Error: 1146 (42S02): Table 'attendence_system.orders' doesn't exist\n"
     ]
    },
    {
     "ename": "TypeError",
     "evalue": "'NoneType' object is not iterable",
     "output_type": "error",
     "traceback": [
      "\u001b[1;31m---------------------------------------------------------------------------\u001b[0m",
      "\u001b[1;31mTypeError\u001b[0m                                 Traceback (most recent call last)",
      "Cell \u001b[1;32mIn[5], line 6\u001b[0m\n\u001b[0;32m      4\u001b[0m connection \u001b[39m=\u001b[39m create_db_connection(\u001b[39m\"\u001b[39m\u001b[39m127.0.0.1\u001b[39m\u001b[39m\"\u001b[39m,\u001b[39m\"\u001b[39m\u001b[39mroot\u001b[39m\u001b[39m\"\u001b[39m,pw,db)\n\u001b[0;32m      5\u001b[0m results \u001b[39m=\u001b[39m read_query(connection, q2)\n\u001b[1;32m----> 6\u001b[0m \u001b[39mfor\u001b[39;00m result \u001b[39min\u001b[39;00m results:\n\u001b[0;32m      7\u001b[0m     \u001b[39mprint\u001b[39m(result)\n",
      "\u001b[1;31mTypeError\u001b[0m: 'NoneType' object is not iterable"
     ]
    }
   ],
   "source": [
    "q2 = \"\"\"\n",
    "select customer_name, phone_number from orders; \n",
    "\"\"\"\n",
    "connection = create_db_connection(\"127.0.0.1\",\"root\",pw,db)\n",
    "results = read_query(connection, q2)\n",
    "for result in results:\n",
    "    print(result)"
   ]
  },
  {
   "cell_type": "code",
   "execution_count": 12,
   "metadata": {},
   "outputs": [
    {
     "name": "stdout",
     "output_type": "stream",
     "text": [
      "Mysql database connection sucessfull\n",
      "(2018,)\n",
      "(2018,)\n",
      "(2018,)\n",
      "(2018,)\n",
      "(2018,)\n"
     ]
    }
   ],
   "source": [
    "q3 = \"\"\"\n",
    "select year(date_ordered) from orders; \n",
    "\"\"\"\n",
    "connection = create_db_connection(\"127.0.0.1\",\"root\",pw,db)\n",
    "results = read_query(connection, q3)\n",
    "for result in results:\n",
    "    print(result)"
   ]
  },
  {
   "cell_type": "code",
   "execution_count": 14,
   "metadata": {},
   "outputs": [
    {
     "name": "stdout",
     "output_type": "stream",
     "text": [
      "Mysql database connection sucessfull\n",
      "(2018,)\n"
     ]
    }
   ],
   "source": [
    "q4 = \"\"\"\n",
    "select distinct year(date_ordered) from orders; \n",
    "\"\"\"\n",
    "connection = create_db_connection(\"127.0.0.1\",\"root\",pw,db)\n",
    "results = read_query(connection, q4)\n",
    "for result in results:\n",
    "    print(result)"
   ]
  },
  {
   "cell_type": "code",
   "execution_count": 24,
   "metadata": {},
   "outputs": [
    {
     "name": "stdout",
     "output_type": "stream",
     "text": [
      "Mysql database connection sucessfull\n",
      "(datetime.date(2023, 3, 12), 'Pratham Sharma', '21:44')\n",
      "(datetime.date(2023, 3, 12), 'Sundra Pechai', '21:44')\n",
      "(datetime.date(2023, 3, 12), 'Pratham Sharma', '21:54')\n",
      "(datetime.date(2023, 3, 12), 'Pratham Sharma', '21:57')\n",
      "(datetime.date(2023, 3, 12), 'Pratham Sharma', '21:59')\n",
      "(datetime.date(2023, 3, 12), 'Pratham Sharma', '22:03')\n",
      "(datetime.date(2023, 3, 12), 'Pratham Sharma', '22:03')\n",
      "(datetime.date(2023, 3, 12), 'Elon Musk', '22:03')\n",
      "(datetime.date(2023, 3, 12), 'Pratham Sharma', '22:07')\n"
     ]
    }
   ],
   "source": [
    "q5 = \"\"\"\n",
    "select * from Attendence where Date = '2023-03-12'; \n",
    "\"\"\"\n",
    "connection = create_db_connection(\"127.0.0.1\",\"root\",pw,db)\n",
    "results = read_query(connection, q5)\n",
    "for result in results:\n",
    "    print(result)"
   ]
  },
  {
   "cell_type": "code",
   "execution_count": 5,
   "metadata": {},
   "outputs": [
    {
     "name": "stdout",
     "output_type": "stream",
     "text": [
      "Mysql database connection sucessfull\n",
      "('Pratham Sharma', '30/03/2004', 'CSE', 'prathamsharmatrigger2002@gmail.com', 'pratham@123', 'C:/Users/prath/OneDrive/Desktop/Attendence/pic/0.jpg')\n",
      "('Ratan Tata', '23/02/1972', 'Accounts', 'ratan@gmail.com', 'pratham@123', 'C:/Users/prath/OneDrive/Desktop/Attendence/pic/2.jpg')\n",
      "('Elon Musk', '30/05/2001', 'Electrical', 'elon@gmail.com', 'pratham@123', 'C:/Users/prath/OneDrive/Desktop/Attendence/pic/1.jpg')\n",
      "('Sundra Pechai', '30/03/2004', 'CSE', 'sundra@gmail.com', 'pratham@123', 'C:/Users/prath/OneDrive/Desktop/Attendence/pic/3.jpg')\n"
     ]
    }
   ],
   "source": [
    "q7 = \"\"\"\n",
    "select * from Faculty_Record; \n",
    "\"\"\"\n",
    "connection = create_db_connection(\"127.0.0.1\",\"root\",pw,db)\n",
    "results = read_query(connection, q7)\n",
    "for result in results:\n",
    "    print(result)"
   ]
  },
  {
   "cell_type": "code",
   "execution_count": 6,
   "metadata": {},
   "outputs": [
    {
     "name": "stdout",
     "output_type": "stream",
     "text": [
      "Mysql database connection sucessfull\n"
     ]
    },
    {
     "ename": "ValueError",
     "evalue": "7 columns passed, passed data had 6 columns",
     "output_type": "error",
     "traceback": [
      "\u001b[1;31m---------------------------------------------------------------------------\u001b[0m",
      "\u001b[1;31mAssertionError\u001b[0m                            Traceback (most recent call last)",
      "File \u001b[1;32mc:\\Users\\prath\\AppData\\Local\\Programs\\Python\\Python38\\lib\\site-packages\\pandas\\core\\internals\\construction.py:969\u001b[0m, in \u001b[0;36m_finalize_columns_and_data\u001b[1;34m(content, columns, dtype)\u001b[0m\n\u001b[0;32m    968\u001b[0m \u001b[39mtry\u001b[39;00m:\n\u001b[1;32m--> 969\u001b[0m     columns \u001b[39m=\u001b[39m _validate_or_indexify_columns(contents, columns)\n\u001b[0;32m    970\u001b[0m \u001b[39mexcept\u001b[39;00m \u001b[39mAssertionError\u001b[39;00m \u001b[39mas\u001b[39;00m err:\n\u001b[0;32m    971\u001b[0m     \u001b[39m# GH#26429 do not raise user-facing AssertionError\u001b[39;00m\n",
      "File \u001b[1;32mc:\\Users\\prath\\AppData\\Local\\Programs\\Python\\Python38\\lib\\site-packages\\pandas\\core\\internals\\construction.py:1017\u001b[0m, in \u001b[0;36m_validate_or_indexify_columns\u001b[1;34m(content, columns)\u001b[0m\n\u001b[0;32m   1015\u001b[0m \u001b[39mif\u001b[39;00m \u001b[39mnot\u001b[39;00m is_mi_list \u001b[39mand\u001b[39;00m \u001b[39mlen\u001b[39m(columns) \u001b[39m!=\u001b[39m \u001b[39mlen\u001b[39m(content):  \u001b[39m# pragma: no cover\u001b[39;00m\n\u001b[0;32m   1016\u001b[0m     \u001b[39m# caller's responsibility to check for this...\u001b[39;00m\n\u001b[1;32m-> 1017\u001b[0m     \u001b[39mraise\u001b[39;00m \u001b[39mAssertionError\u001b[39;00m(\n\u001b[0;32m   1018\u001b[0m         \u001b[39mf\u001b[39m\u001b[39m\"\u001b[39m\u001b[39m{\u001b[39;00m\u001b[39mlen\u001b[39m(columns)\u001b[39m}\u001b[39;00m\u001b[39m columns passed, passed data had \u001b[39m\u001b[39m\"\u001b[39m\n\u001b[0;32m   1019\u001b[0m         \u001b[39mf\u001b[39m\u001b[39m\"\u001b[39m\u001b[39m{\u001b[39;00m\u001b[39mlen\u001b[39m(content)\u001b[39m}\u001b[39;00m\u001b[39m columns\u001b[39m\u001b[39m\"\u001b[39m\n\u001b[0;32m   1020\u001b[0m     )\n\u001b[0;32m   1021\u001b[0m \u001b[39melif\u001b[39;00m is_mi_list:\n\u001b[0;32m   1022\u001b[0m \n\u001b[0;32m   1023\u001b[0m     \u001b[39m# check if nested list column, length of each sub-list should be equal\u001b[39;00m\n",
      "\u001b[1;31mAssertionError\u001b[0m: 7 columns passed, passed data had 6 columns",
      "\nThe above exception was the direct cause of the following exception:\n",
      "\u001b[1;31mValueError\u001b[0m                                Traceback (most recent call last)",
      "Cell \u001b[1;32mIn[6], line 12\u001b[0m\n\u001b[0;32m      9\u001b[0m     from_db\u001b[39m.\u001b[39mappend(result)\n\u001b[0;32m     10\u001b[0m colums \u001b[39m=\u001b[39m [\u001b[39m\"\u001b[39m\u001b[39morder_id\u001b[39m\u001b[39m\"\u001b[39m,\u001b[39m'\u001b[39m\u001b[39mcustomer_name\u001b[39m\u001b[39m'\u001b[39m,\u001b[39m'\u001b[39m\u001b[39mproduct_name\u001b[39m\u001b[39m'\u001b[39m,\u001b[39m\"\u001b[39m\u001b[39mdate_ordered\u001b[39m\u001b[39m\"\u001b[39m,\u001b[39m\"\u001b[39m\u001b[39mquantity\u001b[39m\u001b[39m\"\u001b[39m,\u001b[39m\"\u001b[39m\u001b[39munit_price\u001b[39m\u001b[39m\"\u001b[39m, \u001b[39m\"\u001b[39m\u001b[39mphone_number\u001b[39m\u001b[39m\"\u001b[39m]\n\u001b[1;32m---> 12\u001b[0m df \u001b[39m=\u001b[39m pd\u001b[39m.\u001b[39;49mDataFrame(from_db,columns\u001b[39m=\u001b[39;49m colums)\n\u001b[0;32m     13\u001b[0m display(df)\n",
      "File \u001b[1;32mc:\\Users\\prath\\AppData\\Local\\Programs\\Python\\Python38\\lib\\site-packages\\pandas\\core\\frame.py:746\u001b[0m, in \u001b[0;36mDataFrame.__init__\u001b[1;34m(self, data, index, columns, dtype, copy)\u001b[0m\n\u001b[0;32m    744\u001b[0m     \u001b[39mif\u001b[39;00m columns \u001b[39mis\u001b[39;00m \u001b[39mnot\u001b[39;00m \u001b[39mNone\u001b[39;00m:\n\u001b[0;32m    745\u001b[0m         columns \u001b[39m=\u001b[39m ensure_index(columns)\n\u001b[1;32m--> 746\u001b[0m     arrays, columns, index \u001b[39m=\u001b[39m nested_data_to_arrays(\n\u001b[0;32m    747\u001b[0m         \u001b[39m# error: Argument 3 to \"nested_data_to_arrays\" has incompatible\u001b[39;49;00m\n\u001b[0;32m    748\u001b[0m         \u001b[39m# type \"Optional[Collection[Any]]\"; expected \"Optional[Index]\"\u001b[39;49;00m\n\u001b[0;32m    749\u001b[0m         data,\n\u001b[0;32m    750\u001b[0m         columns,\n\u001b[0;32m    751\u001b[0m         index,  \u001b[39m# type: ignore[arg-type]\u001b[39;49;00m\n\u001b[0;32m    752\u001b[0m         dtype,\n\u001b[0;32m    753\u001b[0m     )\n\u001b[0;32m    754\u001b[0m     mgr \u001b[39m=\u001b[39m arrays_to_mgr(\n\u001b[0;32m    755\u001b[0m         arrays,\n\u001b[0;32m    756\u001b[0m         columns,\n\u001b[1;32m   (...)\u001b[0m\n\u001b[0;32m    759\u001b[0m         typ\u001b[39m=\u001b[39mmanager,\n\u001b[0;32m    760\u001b[0m     )\n\u001b[0;32m    761\u001b[0m \u001b[39melse\u001b[39;00m:\n",
      "File \u001b[1;32mc:\\Users\\prath\\AppData\\Local\\Programs\\Python\\Python38\\lib\\site-packages\\pandas\\core\\internals\\construction.py:510\u001b[0m, in \u001b[0;36mnested_data_to_arrays\u001b[1;34m(data, columns, index, dtype)\u001b[0m\n\u001b[0;32m    507\u001b[0m \u001b[39mif\u001b[39;00m is_named_tuple(data[\u001b[39m0\u001b[39m]) \u001b[39mand\u001b[39;00m columns \u001b[39mis\u001b[39;00m \u001b[39mNone\u001b[39;00m:\n\u001b[0;32m    508\u001b[0m     columns \u001b[39m=\u001b[39m ensure_index(data[\u001b[39m0\u001b[39m]\u001b[39m.\u001b[39m_fields)\n\u001b[1;32m--> 510\u001b[0m arrays, columns \u001b[39m=\u001b[39m to_arrays(data, columns, dtype\u001b[39m=\u001b[39;49mdtype)\n\u001b[0;32m    511\u001b[0m columns \u001b[39m=\u001b[39m ensure_index(columns)\n\u001b[0;32m    513\u001b[0m \u001b[39mif\u001b[39;00m index \u001b[39mis\u001b[39;00m \u001b[39mNone\u001b[39;00m:\n",
      "File \u001b[1;32mc:\\Users\\prath\\AppData\\Local\\Programs\\Python\\Python38\\lib\\site-packages\\pandas\\core\\internals\\construction.py:875\u001b[0m, in \u001b[0;36mto_arrays\u001b[1;34m(data, columns, dtype)\u001b[0m\n\u001b[0;32m    872\u001b[0m     data \u001b[39m=\u001b[39m [\u001b[39mtuple\u001b[39m(x) \u001b[39mfor\u001b[39;00m x \u001b[39min\u001b[39;00m data]\n\u001b[0;32m    873\u001b[0m     arr \u001b[39m=\u001b[39m _list_to_arrays(data)\n\u001b[1;32m--> 875\u001b[0m content, columns \u001b[39m=\u001b[39m _finalize_columns_and_data(arr, columns, dtype)\n\u001b[0;32m    876\u001b[0m \u001b[39mreturn\u001b[39;00m content, columns\n",
      "File \u001b[1;32mc:\\Users\\prath\\AppData\\Local\\Programs\\Python\\Python38\\lib\\site-packages\\pandas\\core\\internals\\construction.py:972\u001b[0m, in \u001b[0;36m_finalize_columns_and_data\u001b[1;34m(content, columns, dtype)\u001b[0m\n\u001b[0;32m    969\u001b[0m     columns \u001b[39m=\u001b[39m _validate_or_indexify_columns(contents, columns)\n\u001b[0;32m    970\u001b[0m \u001b[39mexcept\u001b[39;00m \u001b[39mAssertionError\u001b[39;00m \u001b[39mas\u001b[39;00m err:\n\u001b[0;32m    971\u001b[0m     \u001b[39m# GH#26429 do not raise user-facing AssertionError\u001b[39;00m\n\u001b[1;32m--> 972\u001b[0m     \u001b[39mraise\u001b[39;00m \u001b[39mValueError\u001b[39;00m(err) \u001b[39mfrom\u001b[39;00m \u001b[39merr\u001b[39;00m\n\u001b[0;32m    974\u001b[0m \u001b[39mif\u001b[39;00m \u001b[39mlen\u001b[39m(contents) \u001b[39mand\u001b[39;00m contents[\u001b[39m0\u001b[39m]\u001b[39m.\u001b[39mdtype \u001b[39m==\u001b[39m np\u001b[39m.\u001b[39mobject_:\n\u001b[0;32m    975\u001b[0m     contents \u001b[39m=\u001b[39m _convert_object_array(contents, dtype\u001b[39m=\u001b[39mdtype)\n",
      "\u001b[1;31mValueError\u001b[0m: 7 columns passed, passed data had 6 columns"
     ]
    }
   ],
   "source": [
    "from_db = []\n",
    "q8 = \"\"\"\n",
    "select * from Faculty_Record;\n",
    "\"\"\"\n",
    "connection = create_db_connection(\"127.0.0.1\", \"root\", pw, db)\n",
    "results = read_query(connection, q8)\n",
    "for result in results:\n",
    "    result = list(result)\n",
    "    from_db.append(result)\n",
    "colums = [\"order_id\",'customer_name','product_name',\"date_ordered\",\"quantity\",\"unit_price\", \"phone_number\"]\n",
    "\n",
    "df = pd.DataFrame(from_db,columns= colums)\n",
    "display(df)\n"
   ]
  },
  {
   "cell_type": "code",
   "execution_count": 27,
   "metadata": {},
   "outputs": [
    {
     "name": "stdout",
     "output_type": "stream",
     "text": [
      "\n",
      "update Faculty_Record\n",
      "set Faculty_DOB = 'hello', Faculty_Image = 'C:/Users/prath/OneDrive/Desktop/Attendence-SQL/pic/0.jpg',Faculty_Department = 'hello',Faculty_Id = 'hello',Faculty_Password = 'C:/Us'         \n",
      "where Faculty_Name = 'Pratham Sharma'\n",
      "\n",
      "Mysql database connection sucessfull\n",
      "Query was sucessfull\n"
     ]
    }
   ],
   "source": [
    "Update_Entry = \"\"\"\n",
    "update Faculty_Record\n",
    "set Faculty_DOB = '{}', Faculty_Image = '{}',Faculty_Department = '{}',Faculty_Id = '{}',Faculty_Password = '{}'         \n",
    "where Faculty_Name = '{}'\n",
    "\"\"\"\n",
    "Update_Entry = Update_Entry.format(\n",
    "    \"hello\",\n",
    "    \"C:/Users/prath/OneDrive/Desktop/Attendence-SQL/pic/0.jpg\",\n",
    "    \"hello\",\n",
    "    \"hello\",\n",
    "    \"C:/Us\",\n",
    "    \"Pratham Sharma\")\n",
    "print(Update_Entry)\n",
    "\n",
    "connection = create_db_connection(\"127.0.0.1\",'root', pw, db) \n",
    "execute_query(connection, Update_Entry)\n"
   ]
  },
  {
   "cell_type": "code",
   "execution_count": 26,
   "metadata": {},
   "outputs": [
    {
     "name": "stdout",
     "output_type": "stream",
     "text": [
      "Mysql database connection sucessfull\n"
     ]
    },
    {
     "data": {
      "text/html": [
       "<div>\n",
       "<style scoped>\n",
       "    .dataframe tbody tr th:only-of-type {\n",
       "        vertical-align: middle;\n",
       "    }\n",
       "\n",
       "    .dataframe tbody tr th {\n",
       "        vertical-align: top;\n",
       "    }\n",
       "\n",
       "    .dataframe thead th {\n",
       "        text-align: right;\n",
       "    }\n",
       "</style>\n",
       "<table border=\"1\" class=\"dataframe\">\n",
       "  <thead>\n",
       "    <tr style=\"text-align: right;\">\n",
       "      <th></th>\n",
       "      <th>order_id</th>\n",
       "      <th>customer_name</th>\n",
       "      <th>product_name</th>\n",
       "      <th>date_ordered</th>\n",
       "      <th>quantity</th>\n",
       "      <th>unit_price</th>\n",
       "      <th>phone_number</th>\n",
       "    </tr>\n",
       "  </thead>\n",
       "  <tbody>\n",
       "    <tr>\n",
       "      <th>0</th>\n",
       "      <td>101</td>\n",
       "      <td>Steve</td>\n",
       "      <td>Laptop</td>\n",
       "      <td>2018-06-12</td>\n",
       "      <td>2</td>\n",
       "      <td>800.0</td>\n",
       "      <td>6546542482</td>\n",
       "    </tr>\n",
       "    <tr>\n",
       "      <th>1</th>\n",
       "      <td>102</td>\n",
       "      <td>jack</td>\n",
       "      <td>top</td>\n",
       "      <td>2018-06-12</td>\n",
       "      <td>2</td>\n",
       "      <td>800.0</td>\n",
       "      <td>6546542482</td>\n",
       "    </tr>\n",
       "    <tr>\n",
       "      <th>2</th>\n",
       "      <td>103</td>\n",
       "      <td>Seiriya</td>\n",
       "      <td>jeans</td>\n",
       "      <td>2018-06-12</td>\n",
       "      <td>2</td>\n",
       "      <td>45.0</td>\n",
       "      <td>6546542482</td>\n",
       "    </tr>\n",
       "    <tr>\n",
       "      <th>3</th>\n",
       "      <td>104</td>\n",
       "      <td>ganesh</td>\n",
       "      <td>chess board</td>\n",
       "      <td>2018-06-12</td>\n",
       "      <td>2</td>\n",
       "      <td>800.0</td>\n",
       "      <td>6546542482</td>\n",
       "    </tr>\n",
       "    <tr>\n",
       "      <th>4</th>\n",
       "      <td>105</td>\n",
       "      <td>harvi</td>\n",
       "      <td>pook</td>\n",
       "      <td>2018-06-12</td>\n",
       "      <td>2</td>\n",
       "      <td>800.0</td>\n",
       "      <td>6546542482</td>\n",
       "    </tr>\n",
       "  </tbody>\n",
       "</table>\n",
       "</div>"
      ],
      "text/plain": [
       "   order_id customer_name product_name date_ordered  quantity  unit_price  \\\n",
       "0       101         Steve       Laptop   2018-06-12         2       800.0   \n",
       "1       102          jack          top   2018-06-12         2       800.0   \n",
       "2       103       Seiriya        jeans   2018-06-12         2        45.0   \n",
       "3       104        ganesh  chess board   2018-06-12         2       800.0   \n",
       "4       105         harvi         pook   2018-06-12         2       800.0   \n",
       "\n",
       "  phone_number  \n",
       "0   6546542482  \n",
       "1   6546542482  \n",
       "2   6546542482  \n",
       "3   6546542482  \n",
       "4   6546542482  "
      ]
     },
     "metadata": {},
     "output_type": "display_data"
    }
   ],
   "source": [
    "from_db = []\n",
    "q8 = \"\"\"\n",
    "select * from orders;\n",
    "\"\"\"\n",
    "connection = create_db_connection(\"127.0.0.1\", \"root\", pw, db)\n",
    "results = read_query(connection, q8)\n",
    "for result in results:\n",
    "    result = list(result)\n",
    "    from_db.append(result)\n",
    "colums = [\"order_id\",'customer_name','product_name',\"date_ordered\",\"quantity\",\"unit_price\", \"phone_number\"]\n",
    "\n",
    "df = pd.DataFrame(from_db,columns= colums)\n",
    "display(df)"
   ]
  },
  {
   "cell_type": "code",
   "execution_count": 10,
   "metadata": {},
   "outputs": [
    {
     "name": "stdout",
     "output_type": "stream",
     "text": [
      "Mysql database connection sucessfull\n",
      "Query was sucessfull\n"
     ]
    }
   ],
   "source": [
    "delete_order = \"\"\"\n",
    "delete from Faculty_Record\n",
    "where Faculty_Name = \"Ratan Tata\"\n",
    "\"\"\"\n",
    "connection = create_db_connection(\"127.0.0.1\", 'root', pw,db)\n",
    "execute_query(connection , delete_order)\n"
   ]
  }
 ],
 "metadata": {
  "kernelspec": {
   "display_name": "Python 3",
   "language": "python",
   "name": "python3"
  },
  "language_info": {
   "codemirror_mode": {
    "name": "ipython",
    "version": 3
   },
   "file_extension": ".py",
   "mimetype": "text/x-python",
   "name": "python",
   "nbconvert_exporter": "python",
   "pygments_lexer": "ipython3",
   "version": "3.8.9"
  },
  "orig_nbformat": 4
 },
 "nbformat": 4,
 "nbformat_minor": 2
}
